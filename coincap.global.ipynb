{
 "cells": [
  {
   "cell_type": "code",
   "execution_count": 2,
   "metadata": {},
   "outputs": [
    {
     "name": "stdout",
     "output_type": "stream",
     "text": [
      "{\n",
      "    \"data\": {\n",
      "        \"active_cryptocurrencies\": 1602,\n",
      "        \"active_markets\": 11500,\n",
      "        \"bitcoin_percentage_of_market_cap\": 41.71,\n",
      "        \"last_updated\": 1530612315,\n",
      "        \"quotes\": {\n",
      "            \"USD\": {\n",
      "                \"total_market_cap\": 271858600721.0,\n",
      "                \"total_volume_24h\": 16061586954.0\n",
      "            }\n",
      "        }\n",
      "    },\n",
      "    \"metadata\": {\n",
      "        \"error\": null,\n",
      "        \"timestamp\": 1530611997\n",
      "    }\n",
      "}\n"
     ]
    }
   ],
   "source": [
    "import json\n",
    "import requests\n",
    "global_url=\"https://api.coinmarketcap.com/v2/global/\"\n",
    "request=requests.get(global_url)\n",
    "result=request.json()\n",
    "print(json.dumps(result,sort_keys=True, indent=4))\n",
    "\n"
   ]
  },
  {
   "cell_type": "code",
   "execution_count": null,
   "metadata": {},
   "outputs": [],
   "source": []
  }
 ],
 "metadata": {
  "kernelspec": {
   "display_name": "Python 3",
   "language": "python",
   "name": "python3"
  },
  "language_info": {
   "codemirror_mode": {
    "name": "ipython",
    "version": 3
   },
   "file_extension": ".py",
   "mimetype": "text/x-python",
   "name": "python",
   "nbconvert_exporter": "python",
   "pygments_lexer": "ipython3",
   "version": "3.6.4"
  }
 },
 "nbformat": 4,
 "nbformat_minor": 2
}
