{
 "cells": [
  {
   "cell_type": "code",
   "execution_count": 2,
   "metadata": {},
   "outputs": [],
   "source": [
    "'''\n",
    "Author:Sunil Kumar\n",
    "This Code Scrap Data(Top 20 Exchange and there top Currency with its Volume) form coinmarketcap.\n",
    "Save in File CoinMarketCap_Data.xlsx\n",
    "'''\n",
    "\n",
    "import requests\n",
    "from bs4 import BeautifulSoup\n",
    "import pandas as pd\n",
    "import time\n",
    "import openpyxl\n",
    "from openpyxl import Workbook\n",
    "page=requests.get(\"https://coinmarketcap.com/exchanges/volume/24-hour/\")\n",
    "Vol_Rank=page.content\n",
    "soup=BeautifulSoup(Vol_Rank,\"html.parser\")\n",
    "table=soup.find('div',class_='table-responsive')\n",
    "double2=list(table.find_all('h3',class_=\"padding-top--lv6 margin-bottom--lv2\"))\n",
    "singl1=list(table.find_all('tr'))\n",
    "exchange11=[]\n",
    "currency_list=[]\n",
    "top_currency_list=[]\n",
    "volume_list=[]\n",
    "top_exchange_list=[]\n",
    "for x in range(0,20):\n",
    "    exchange11.append(double2[x].text)   \n",
    "for exchange in range(2,270,14):\n",
    "    currency_list.append(singl1[exchange].text)\n",
    "for currency in currency_list:\n",
    "    top_currency_list.append(currency.split()[1])\n",
    "    volume_list.append(currency.split()[3])\n",
    "for i in exchange11:\n",
    "    top_exchange_list.append(i.split()[1])\n",
    "book = Workbook()\n",
    "sheet = book.active\n",
    "for k in range(0,20):\n",
    "    sheet['A'+str(k+1)] =top_exchange_list[k]\n",
    "    sheet['B'+str(k+1)] =top_currency_list[k]\n",
    "    sheet['c'+str(k+1)] =volume_list[k]\n",
    "book.save(\"File CoinMarketCap_Data.xlsx\")    "
   ]
  },
  {
   "cell_type": "code",
   "execution_count": null,
   "metadata": {},
   "outputs": [],
   "source": []
  }
 ],
 "metadata": {
  "kernelspec": {
   "display_name": "Python 3",
   "language": "python",
   "name": "python3"
  },
  "language_info": {
   "codemirror_mode": {
    "name": "ipython",
    "version": 3
   },
   "file_extension": ".py",
   "mimetype": "text/x-python",
   "name": "python",
   "nbconvert_exporter": "python",
   "pygments_lexer": "ipython3",
   "version": "3.6.4"
  }
 },
 "nbformat": 4,
 "nbformat_minor": 2
}
