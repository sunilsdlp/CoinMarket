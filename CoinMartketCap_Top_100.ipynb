{
 "cells": [
  {
   "cell_type": "code",
   "execution_count": 10,
   "metadata": {},
   "outputs": [],
   "source": [
    "'''\n",
    "Author: Sunil Kumar\n",
    "This Code Give a list of Top 100 Cryptocurrencies By Market Capitalization(Price,Symbol,Name)\n",
    "'''\n",
    "import requests\n",
    "import pandas as pd\n",
    "from bs4 import BeautifulSoup\n",
    "page=requests.get('https://coinmarketcap.com/')\n",
    "soup=BeautifulSoup(page.content,'lxml')\n",
    "symbols=[]\n",
    "Names=[]\n",
    "Price=[]\n",
    "Volume=[]\n",
    "Change=[]\n",
    "Spply=[]\n",
    "Mcap=[]\n",
    "for coin in list(soup.find_all('span',class_='currency-symbol visible-xs')):\n",
    "    symbols.append(coin.text)\n",
    "for coin in list(soup.find_all('a',class_='currency-name-container link-secondary')):\n",
    "    Names.append(coin.text)\n",
    "for coin in list(soup.find_all('a',class_='price')):\n",
    "    Price.append(coin.text)\n",
    "df=pd.DataFrame()\n",
    "df[\"Name\"],df[\"Symbol\"],df[\"Price\"]=Names,symbols,Price"
   ]
  }
 ],
 "metadata": {
  "kernelspec": {
   "display_name": "Python 3",
   "language": "python",
   "name": "python3"
  },
  "language_info": {
   "codemirror_mode": {
    "name": "ipython",
    "version": 3
   },
   "file_extension": ".py",
   "mimetype": "text/x-python",
   "name": "python",
   "nbconvert_exporter": "python",
   "pygments_lexer": "ipython3",
   "version": "3.6.4"
  }
 },
 "nbformat": 4,
 "nbformat_minor": 2
}
